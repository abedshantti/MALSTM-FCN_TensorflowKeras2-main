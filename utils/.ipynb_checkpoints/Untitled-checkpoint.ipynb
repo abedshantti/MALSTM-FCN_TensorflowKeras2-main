{
 "cells": [
  {
   "cell_type": "code",
   "execution_count": 1,
   "metadata": {},
   "outputs": [],
   "source": [
    "import tensorflow as tf"
   ]
  },
  {
   "cell_type": "code",
   "execution_count": 2,
   "metadata": {},
   "outputs": [
    {
     "name": "stdout",
     "output_type": "stream",
     "text": [
      "usage: tf_upgrade_v2 [-h] [--infile INPUT_FILE] [--outfile OUTPUT_FILE]\n",
      "                     [--intree INPUT_TREE] [--outtree OUTPUT_TREE]\n",
      "                     [--copyotherfiles COPY_OTHER_FILES] [--inplace]\n",
      "                     [--reportfile REPORT_FILENAME] [--mode {DEFAULT,SAFETY}]\n",
      "                     [--print_all]\n",
      "\n",
      "Convert a TensorFlow Python file from 1.x to 2.0\n",
      "\n",
      "Simple usage:\n",
      "  tf_upgrade_v2.py --infile foo.py --outfile bar.py\n",
      "  tf_upgrade_v2.py --infile foo.ipynb --outfile bar.ipynb\n",
      "  tf_upgrade_v2.py --intree ~/code/old --outtree ~/code/new\n",
      "\n",
      "optional arguments:\n",
      "  -h, --help            show this help message and exit\n",
      "  --infile INPUT_FILE   If converting a single file, the name of the file to\n",
      "                        convert\n",
      "  --outfile OUTPUT_FILE\n",
      "                        If converting a single file, the output filename.\n",
      "  --intree INPUT_TREE   If converting a whole tree of files, the directory to\n",
      "                        read from (relative or absolute).\n",
      "  --outtree OUTPUT_TREE\n",
      "                        If converting a whole tree of files, the output\n",
      "                        directory (relative or absolute).\n",
      "  --copyotherfiles COPY_OTHER_FILES\n",
      "                        If converting a whole tree of files, whether to copy\n",
      "                        the other files.\n",
      "  --inplace             If converting a set of files, whether to allow the\n",
      "                        conversion to be performed on the input files.\n",
      "  --reportfile REPORT_FILENAME\n",
      "                        The name of the file where the report log is\n",
      "                        stored.(default: report.txt)\n",
      "  --mode {DEFAULT,SAFETY}\n",
      "                        Upgrade script mode. Supported modes: DEFAULT: Perform\n",
      "                        only straightforward conversions to upgrade to 2.0. In\n",
      "                        more difficult cases, switch to use compat.v1. SAFETY:\n",
      "                        Keep 1.* code intact and import compat.v1 module. Also\n",
      "                        disable 2.0 behavior to ensure code that requires 1.X\n",
      "                        behavior continues to work.\n",
      "  --print_all           Print full log to stdout instead of just printing\n",
      "                        errors\n"
     ]
    },
    {
     "name": "stderr",
     "output_type": "stream",
     "text": [
      "2021-02-25 17:49:42.535799: W tensorflow/stream_executor/platform/default/dso_loader.cc:55] Could not load dynamic library 'cudart64_100.dll'; dlerror: cudart64_100.dll not found\n",
      "2021-02-25 17:49:42.536030: I tensorflow/stream_executor/cuda/cudart_stub.cc:29] Ignore above cudart dlerror if you do not have a GPU set up on your machine.\n"
     ]
    }
   ],
   "source": [
    "!tf_upgrade_v2 -h"
   ]
  },
  {
   "cell_type": "code",
   "execution_count": 4,
   "metadata": {},
   "outputs": [
    {
     "name": "stderr",
     "output_type": "stream",
     "text": [
      "2021-02-25 17:52:51.769408: W tensorflow/stream_executor/platform/default/dso_loader.cc:55] Could not load dynamic library 'cudart64_100.dll'; dlerror: cudart64_100.dll not found\n",
      "2021-02-25 17:52:51.769645: I tensorflow/stream_executor/cuda/cudart_stub.cc:29] Ignore above cudart dlerror if you do not have a GPU set up on your machine.\n",
      "Traceback (most recent call last):\n",
      "  File \"c:\\users\\aaalshan\\appdata\\local\\continuum\\anaconda3\\lib\\runpy.py\", line 193, in _run_module_as_main\n",
      "    \"__main__\", mod_spec)\n",
      "  File \"c:\\users\\aaalshan\\appdata\\local\\continuum\\anaconda3\\lib\\runpy.py\", line 85, in _run_code\n",
      "    exec(code, run_globals)\n",
      "  File \"C:\\Users\\aaalshan\\AppData\\Local\\Continuum\\anaconda3\\Scripts\\tf_upgrade_v2.exe\\__main__.py\", line 9, in <module>\n",
      "  File \"c:\\users\\aaalshan\\appdata\\local\\continuum\\anaconda3\\lib\\site-packages\\tensorflow_core\\tools\\compatibility\\tf_upgrade_v2_main.py\", line 139, in main\n",
      "    args.input_file, output_file, upgrade)\n",
      "  File \"c:\\users\\aaalshan\\appdata\\local\\continuum\\anaconda3\\lib\\site-packages\\tensorflow_core\\tools\\compatibility\\tf_upgrade_v2_main.py\", line 40, in process_file\n",
      "    upgrader.process_file(in_filename, out_filename)\n",
      "  File \"c:\\users\\aaalshan\\appdata\\local\\continuum\\anaconda3\\lib\\site-packages\\tensorflow_core\\tools\\compatibility\\ast_edits.py\", line 897, in process_file\n",
      "    with open(in_filename, \"r\") as in_file, \\\n",
      "FileNotFoundError: [Errno 2] No such file or directory: 'clone/utils/layers_utils.py'\n"
     ]
    }
   ],
   "source": [
    "!tf_upgrade_v2 \\\n",
    "  --infile layer_utils.py \\\n",
    "  --outfile layer_utils_v2.py"
   ]
  },
  {
   "cell_type": "code",
   "execution_count": 7,
   "metadata": {},
   "outputs": [
    {
     "name": "stderr",
     "output_type": "stream",
     "text": [
      "C:\\Users\\aaalshan\\AppData\\Local\\Continuum\\anaconda3\\lib\\site-packages\\dask\\dataframe\\utils.py:15: FutureWarning: pandas.util.testing is deprecated. Use the functions in the public API at pandas.testing instead.\n",
      "  import pandas.util.testing as tm\n"
     ]
    },
    {
     "ename": "NameError",
     "evalue": "name 'jupyter' is not defined",
     "output_type": "error",
     "traceback": [
      "\u001b[1;31m---------------------------------------------------------------------------\u001b[0m",
      "\u001b[1;31mNameError\u001b[0m                                 Traceback (most recent call last)",
      "\u001b[1;32m<ipython-input-7-c0dabed1cce1>\u001b[0m in \u001b[0;36m<module>\u001b[1;34m\u001b[0m\n\u001b[1;32m----> 1\u001b[1;33m \u001b[0mjupyter\u001b[0m \u001b[1;33m-\u001b[0m\u001b[1;33m-\u001b[0m\u001b[0mpaths\u001b[0m\u001b[1;33m\u001b[0m\u001b[1;33m\u001b[0m\u001b[0m\n\u001b[0m",
      "\u001b[1;31mNameError\u001b[0m: name 'jupyter' is not defined"
     ]
    }
   ],
   "source": [
    "jupyter --paths"
   ]
  },
  {
   "cell_type": "code",
   "execution_count": 9,
   "metadata": {},
   "outputs": [],
   "source": [
    "import os\n",
    "cwd = os.getcwd()"
   ]
  },
  {
   "cell_type": "code",
   "execution_count": 10,
   "metadata": {},
   "outputs": [
    {
     "data": {
      "text/plain": [
       "'M:\\\\Desktop\\\\Work\\\\Python_Code\\\\clone\\\\utils'"
      ]
     },
     "execution_count": 10,
     "metadata": {},
     "output_type": "execute_result"
    }
   ],
   "source": [
    "cwd"
   ]
  },
  {
   "cell_type": "code",
   "execution_count": null,
   "metadata": {},
   "outputs": [],
   "source": []
  }
 ],
 "metadata": {
  "kernelspec": {
   "display_name": "Python 3",
   "language": "python",
   "name": "python3"
  },
  "language_info": {
   "codemirror_mode": {
    "name": "ipython",
    "version": 3
   },
   "file_extension": ".py",
   "mimetype": "text/x-python",
   "name": "python",
   "nbconvert_exporter": "python",
   "pygments_lexer": "ipython3",
   "version": "3.7.3"
  }
 },
 "nbformat": 4,
 "nbformat_minor": 4
}
