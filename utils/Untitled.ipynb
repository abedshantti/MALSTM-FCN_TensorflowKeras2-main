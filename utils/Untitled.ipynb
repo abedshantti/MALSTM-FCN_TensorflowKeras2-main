{
 "cells": [
  {
   "cell_type": "code",
   "execution_count": 1,
   "metadata": {},
   "outputs": [],
   "source": [
    "import tensorflow as tf"
   ]
  },
  {
   "cell_type": "code",
   "execution_count": 2,
   "metadata": {},
   "outputs": [
    {
     "name": "stdout",
     "output_type": "stream",
     "text": [
      "usage: tf_upgrade_v2 [-h] [--infile INPUT_FILE] [--outfile OUTPUT_FILE]\n",
      "                     [--intree INPUT_TREE] [--outtree OUTPUT_TREE]\n",
      "                     [--copyotherfiles COPY_OTHER_FILES] [--inplace]\n",
      "                     [--reportfile REPORT_FILENAME] [--mode {DEFAULT,SAFETY}]\n",
      "                     [--print_all]\n",
      "\n",
      "Convert a TensorFlow Python file from 1.x to 2.0\n",
      "\n",
      "Simple usage:\n",
      "  tf_upgrade_v2.py --infile foo.py --outfile bar.py\n",
      "  tf_upgrade_v2.py --infile foo.ipynb --outfile bar.ipynb\n",
      "  tf_upgrade_v2.py --intree ~/code/old --outtree ~/code/new\n",
      "\n",
      "optional arguments:\n",
      "  -h, --help            show this help message and exit\n",
      "  --infile INPUT_FILE   If converting a single file, the name of the file to\n",
      "                        convert\n",
      "  --outfile OUTPUT_FILE\n",
      "                        If converting a single file, the output filename.\n",
      "  --intree INPUT_TREE   If converting a whole tree of files, the directory to\n",
      "                        read from (relative or absolute).\n",
      "  --outtree OUTPUT_TREE\n",
      "                        If converting a whole tree of files, the output\n",
      "                        directory (relative or absolute).\n",
      "  --copyotherfiles COPY_OTHER_FILES\n",
      "                        If converting a whole tree of files, whether to copy\n",
      "                        the other files.\n",
      "  --inplace             If converting a set of files, whether to allow the\n",
      "                        conversion to be performed on the input files.\n",
      "  --reportfile REPORT_FILENAME\n",
      "                        The name of the file where the report log is\n",
      "                        stored.(default: report.txt)\n",
      "  --mode {DEFAULT,SAFETY}\n",
      "                        Upgrade script mode. Supported modes: DEFAULT: Perform\n",
      "                        only straightforward conversions to upgrade to 2.0. In\n",
      "                        more difficult cases, switch to use compat.v1. SAFETY:\n",
      "                        Keep 1.* code intact and import compat.v1 module. Also\n",
      "                        disable 2.0 behavior to ensure code that requires 1.X\n",
      "                        behavior continues to work.\n",
      "  --print_all           Print full log to stdout instead of just printing\n",
      "                        errors\n"
     ]
    },
    {
     "name": "stderr",
     "output_type": "stream",
     "text": [
      "2021-02-25 17:49:42.535799: W tensorflow/stream_executor/platform/default/dso_loader.cc:55] Could not load dynamic library 'cudart64_100.dll'; dlerror: cudart64_100.dll not found\n",
      "2021-02-25 17:49:42.536030: I tensorflow/stream_executor/cuda/cudart_stub.cc:29] Ignore above cudart dlerror if you do not have a GPU set up on your machine.\n"
     ]
    }
   ],
   "source": [
    "!tf_upgrade_v2 -h"
   ]
  },
  {
   "cell_type": "code",
   "execution_count": 12,
   "metadata": {},
   "outputs": [
    {
     "name": "stdout",
     "output_type": "stream",
     "text": [
      "TensorFlow 2.0 Upgrade Script\n",
      "-----------------------------\n",
      "Converted 1 files\n",
      "Detected 0 issues that require attention\n",
      "--------------------------------------------------------------------------------\n",
      "\n",
      "\n",
      "Make sure to read the detailed log 'report.txt'\n",
      "\n"
     ]
    },
    {
     "name": "stderr",
     "output_type": "stream",
     "text": [
      "2021-02-25 17:59:51.589231: W tensorflow/stream_executor/platform/default/dso_loader.cc:55] Could not load dynamic library 'cudart64_100.dll'; dlerror: cudart64_100.dll not found\n",
      "2021-02-25 17:59:51.589454: I tensorflow/stream_executor/cuda/cudart_stub.cc:29] Ignore above cudart dlerror if you do not have a GPU set up on your machine.\n"
     ]
    }
   ],
   "source": [
    "!tf_upgrade_v2 \\\n",
    "  --infile layer_utils.py \\\n",
    "  --outfile layer_utils_v2.py"
   ]
  },
  {
   "cell_type": "code",
   "execution_count": 9,
   "metadata": {},
   "outputs": [],
   "source": [
    "import os\n",
    "cwd = os.getcwd()"
   ]
  },
  {
   "cell_type": "code",
   "execution_count": null,
   "metadata": {},
   "outputs": [],
   "source": []
  }
 ],
 "metadata": {
  "kernelspec": {
   "display_name": "Python 3",
   "language": "python",
   "name": "python3"
  },
  "language_info": {
   "codemirror_mode": {
    "name": "ipython",
    "version": 3
   },
   "file_extension": ".py",
   "mimetype": "text/x-python",
   "name": "python",
   "nbconvert_exporter": "python",
   "pygments_lexer": "ipython3",
   "version": "3.7.3"
  }
 },
 "nbformat": 4,
 "nbformat_minor": 4
}
